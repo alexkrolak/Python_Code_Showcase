{
 "cells": [
  {
   "cell_type": "code",
   "execution_count": 1,
   "id": "efb2c9d8",
   "metadata": {},
   "outputs": [],
   "source": [
    "# Package imports\n",
    "import pandas as pd\n",
    "import numpy as np"
   ]
  },
  {
   "cell_type": "code",
   "execution_count": 2,
   "id": "03a2c335",
   "metadata": {},
   "outputs": [
    {
     "name": "stdout",
     "output_type": "stream",
     "text": [
      "     dispatch_id  location_id       job_type                 dispatch_time\n",
      "0              1          139    tire_change 2024-01-01 04:47:15.766005248\n",
      "1              2          129        lockout 2024-01-03 05:21:37.731175424\n",
      "2              3          115         towing 2024-01-02 17:21:42.856463104\n",
      "3              4          143    tire_change 2024-01-03 12:36:41.177106944\n",
      "4              5          108  fuel_delivery 2024-01-01 10:03:48.860249088\n",
      "..           ...          ...            ...                           ...\n",
      "495          496          105   battery_jump 2024-01-03 00:59:44.738598400\n",
      "496          497          112         towing 2024-01-02 23:07:28.652230400\n",
      "497          498          116  fuel_delivery 2024-01-01 19:40:28.596138496\n",
      "498          499          126        lockout 2024-01-03 20:27:42.884471552\n",
      "499          500          126   battery_jump 2024-01-01 10:52:34.054491648\n",
      "\n",
      "[500 rows x 4 columns]\n"
     ]
    }
   ],
   "source": [
    "# Dispatch data simulation\n",
    "\n",
    "# Set random seed for reproducibility\n",
    "np.random.seed(42)\n",
    "\n",
    "# Define parameters for simulation\n",
    "n_rows = 500\n",
    "job_types = [\"towing\", \"fuel_delivery\", \"battery_jump\", \"lockout\", \"tire_change\"]\n",
    "location_ids = range(101, 151)  # Simulating 50 unique locations\n",
    "start_time = pd.Timestamp(\"2024-01-01 00:00:00\")\n",
    "end_time = pd.Timestamp(\"2024-01-03 23:59:59\")\n",
    "\n",
    "# Generate simulated data\n",
    "dispatch_ids = np.arange(1, n_rows + 1)\n",
    "location_id_samples = np.random.choice(location_ids, n_rows)\n",
    "job_type_samples = np.random.choice(job_types, n_rows)\n",
    "dispatch_time_samples = pd.to_datetime(np.random.uniform(start_time.timestamp(), end_time.timestamp(), n_rows), unit=\"s\")\n",
    "\n",
    "# Create the DataFrame\n",
    "dispatch_data_simulated = pd.DataFrame({\n",
    "    \"dispatch_id\": dispatch_ids,\n",
    "    \"location_id\": location_id_samples,\n",
    "    \"job_type\": job_type_samples,\n",
    "    \"dispatch_time\": dispatch_time_samples\n",
    "})\n",
    "\n",
    "# Save to CSV\n",
    "dispatch_data_simulated.to_csv(\"data/dispatch_data_simulated.csv\", index=False)\n",
    "\n",
    "# Preview the dataset\n",
    "print(dispatch_data_simulated)\n",
    "\n",
    "\n",
    "# Introduce missing and junk values into dispatch_data\n",
    "dispatch_data_simulated.loc[10:20, \"job_type\"] = None  # Introduce missing job types\n",
    "dispatch_data_simulated.loc[30, \"location_id\"] = 9999  # Invalid location_id\n",
    "dispatch_data_simulated.loc[40, \"dispatch_time\"] = \"InvalidTime\"  # Corrupted timestamp\n",
    "\n",
    "# Save the updated dataset\n",
    "dispatch_data_simulated.to_csv(\"data/dispatch_data_with_issues.csv\", index=False)"
   ]
  },
  {
   "cell_type": "code",
   "execution_count": 3,
   "id": "8a196a89",
   "metadata": {},
   "outputs": [
    {
     "name": "stdout",
     "output_type": "stream",
     "text": [
      "   location_id       date traffic_level\n",
      "0          139 2024-01-01          high\n",
      "1          129 2024-01-02      moderate\n",
      "2          115 2024-01-01        severe\n",
      "3          143 2024-01-02           low\n",
      "4          108 2024-01-01      moderate\n"
     ]
    }
   ],
   "source": [
    "# Traffic data simulation\n",
    "\n",
    "# Set random seed for reproducibility\n",
    "np.random.seed(42)\n",
    "\n",
    "# Define parameters for simulation\n",
    "n_rows = 700\n",
    "location_ids = range(101, 151)  # Simulating 50 unique locations\n",
    "traffic_levels = [\"low\", \"moderate\", \"high\", \"severe\"]\n",
    "start_date = pd.Timestamp(\"2024-01-01\")\n",
    "end_date = pd.Timestamp(\"2024-01-03\")\n",
    "\n",
    "# Generate simulated data\n",
    "location_id_samples = np.random.choice(location_ids, n_rows)\n",
    "date_samples = pd.to_datetime(\n",
    "    np.random.uniform(start_date.timestamp(), end_date.timestamp(), n_rows), unit=\"s\"\n",
    ").normalize()  # Normalize to ensure dates (no time component)\n",
    "traffic_level_samples = np.random.choice(traffic_levels, n_rows)\n",
    "\n",
    "# Create the DataFrame\n",
    "traffic_data_simulated = pd.DataFrame({\n",
    "    \"location_id\": location_id_samples,\n",
    "    \"date\": date_samples,\n",
    "    \"traffic_level\": traffic_level_samples\n",
    "})\n",
    "\n",
    "# Save to CSV\n",
    "traffic_data_simulated.to_csv(\"data/traffic_data_simulated.csv\", index=False)\n",
    "\n",
    "# Preview the dataset\n",
    "print(traffic_data_simulated.head())\n",
    "\n",
    "# Introduce missing and junk values into traffic_data\n",
    "traffic_data_simulated.loc[50:60, \"traffic_level\"] = None  # Missing traffic levels\n",
    "traffic_data_simulated.loc[100, \"location_id\"] = 123456  # Invalid location_id\n",
    "traffic_data_simulated.loc[150, \"date\"] = \"2025-01-99\"  # Invalid date\n",
    "\n",
    "# Save the updated dataset\n",
    "traffic_data_simulated.to_csv(\"data/traffic_data_with_issues.csv\", index=False)"
   ]
  },
  {
   "cell_type": "code",
   "execution_count": 4,
   "id": "ad22240f",
   "metadata": {},
   "outputs": [
    {
     "name": "stdout",
     "output_type": "stream",
     "text": [
      "   location_id       date  temperature  precipitation\n",
      "0          128 2024-01-02         91.5           2.51\n",
      "1          138 2024-01-01         73.3           2.46\n",
      "2          144 2024-01-02         64.5           1.06\n",
      "3          126 2024-01-02         64.1           0.48\n",
      "4          143 2024-01-01         75.8           0.35\n"
     ]
    }
   ],
   "source": [
    "# Weather data simulation\n",
    "\n",
    "# Set random seed for reproducibility\n",
    "np.random.seed(456)\n",
    "\n",
    "# Define parameters for simulation\n",
    "n_rows = 200\n",
    "location_ids = range(101, 151)  # Simulating 50 unique locations\n",
    "start_date = pd.Timestamp(\"2024-01-01\")\n",
    "end_date = pd.Timestamp(\"2024-01-03\")\n",
    "temperature_range = (60, 100)  # Simulated temperature range (in Fahrenheit)\n",
    "precipitation_range = (0, 3)  # Simulated precipitation (in inches)\n",
    "\n",
    "# Generate simulated data\n",
    "location_id_samples = np.random.choice(location_ids, n_rows)\n",
    "date_samples = pd.to_datetime(\n",
    "    np.random.uniform(start_date.timestamp(), end_date.timestamp(), n_rows), unit=\"s\"\n",
    ").normalize()  # Normalize to ensure only the date\n",
    "temperature_samples = np.random.uniform(temperature_range[0], temperature_range[1], n_rows).round(1)\n",
    "dof = 2  # Degrees of freedom for chi square\n",
    "precipitation_samples = np.random.chisquare(dof, n_rows).round(2)\n",
    "\n",
    "# Create the DataFrame\n",
    "weather_data_simulated = pd.DataFrame({\n",
    "    \"location_id\": location_id_samples,\n",
    "    \"date\": date_samples,\n",
    "    \"temperature\": temperature_samples,\n",
    "    \"precipitation\": precipitation_samples\n",
    "})\n",
    "\n",
    "# Save to CSV\n",
    "weather_data_simulated.to_csv(\"data/weather_data_simulated.csv\", index=False)\n",
    "\n",
    "# Preview the dataset\n",
    "print(weather_data_simulated.head())\n",
    "\n",
    "\n",
    "# Introduce missing and junk values into weather_data\n",
    "weather_data_simulated.loc[20:30, \"temperature\"] = None  # Missing temperatures\n",
    "weather_data_simulated.loc[50, \"precipitation\"] = -1  # Invalid precipitation\n",
    "weather_data_simulated.loc[70, \"date\"] = \"InvalidDate\"  # Corrupted date\n",
    "\n",
    "# Save the updated dataset\n",
    "weather_data_simulated.to_csv(\"data/weather_data_with_issues.csv\", index=False)"
   ]
  }
 ],
 "metadata": {
  "kernelspec": {
   "display_name": "Python 3 (ipykernel)",
   "language": "python",
   "name": "python3"
  },
  "language_info": {
   "codemirror_mode": {
    "name": "ipython",
    "version": 3
   },
   "file_extension": ".py",
   "mimetype": "text/x-python",
   "name": "python",
   "nbconvert_exporter": "python",
   "pygments_lexer": "ipython3",
   "version": "3.11.5"
  }
 },
 "nbformat": 4,
 "nbformat_minor": 5
}
