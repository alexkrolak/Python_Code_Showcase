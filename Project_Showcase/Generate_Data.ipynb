{
 "cells": [
  {
   "cell_type": "code",
   "execution_count": 1,
   "id": "77ec88e5",
   "metadata": {},
   "outputs": [
    {
     "name": "stdout",
     "output_type": "stream",
     "text": [
      "Note: you may need to restart the kernel to use updated packages.\n"
     ]
    },
    {
     "name": "stderr",
     "output_type": "stream",
     "text": [
      "ERROR: Could not open requirements file: [Errno 2] No such file or directory: 'requirements.txt'\n"
     ]
    }
   ],
   "source": [
    "pip install -r requirements.txt"
   ]
  },
  {
   "cell_type": "code",
   "execution_count": 1,
   "id": "efb2c9d8",
   "metadata": {},
   "outputs": [],
   "source": [
    "# Package imports\n",
    "import pandas as pd\n",
    "import numpy as np"
   ]
  },
  {
   "cell_type": "code",
   "execution_count": 2,
   "id": "03a2c335",
   "metadata": {},
   "outputs": [
    {
     "name": "stdout",
     "output_type": "stream",
     "text": [
      "     dispatch_id  location_id       job_type                 dispatch_time\n",
      "0              1          106  fuel_delivery 2024-01-02 08:47:37.867155968\n",
      "1              2          106  fuel_delivery 2024-01-03 23:29:39.787000320\n",
      "2              3          112    tire_change 2024-01-03 11:09:58.744973312\n",
      "3              4          113   battery_jump 2024-01-01 12:23:25.783618048\n",
      "4              5          111        lockout 2024-01-01 15:50:39.269447424\n",
      "..           ...          ...            ...                           ...\n",
      "495          496          112    tire_change 2024-01-02 05:29:15.308436992\n",
      "496          497          107  fuel_delivery 2024-01-01 07:03:13.519422720\n",
      "497          498          102  fuel_delivery 2024-01-02 13:41:25.300250624\n",
      "498          499          106         towing 2024-01-02 20:11:06.366472960\n",
      "499          500          103  fuel_delivery 2024-01-02 23:10:55.364893440\n",
      "\n",
      "[500 rows x 4 columns]\n"
     ]
    }
   ],
   "source": [
    "# Dispatch data simulation\n",
    "\n",
    "# Set random seed for reproducibility\n",
    "np.random.seed(142)\n",
    "\n",
    "# Define parameters for simulation\n",
    "n_rows = 500\n",
    "job_types = [\"towing\", \"fuel_delivery\", \"battery_jump\", \"lockout\", \"tire_change\"]\n",
    "location_ids = range(101, 116)  \n",
    "start_time = pd.Timestamp(\"2024-01-01 00:00:00\")\n",
    "end_time = pd.Timestamp(\"2024-01-03 23:59:59\")\n",
    "\n",
    "# Generate simulated data\n",
    "dispatch_ids = np.arange(1, n_rows + 1)\n",
    "location_id_samples = np.random.choice(location_ids, n_rows)\n",
    "job_type_samples = np.random.choice(job_types, n_rows)\n",
    "dispatch_time_samples = pd.to_datetime(np.random.uniform(start_time.timestamp(), end_time.timestamp(), n_rows), unit=\"s\")\n",
    "\n",
    "# Create the DataFrame\n",
    "dispatch_data_simulated = pd.DataFrame({\n",
    "    \"dispatch_id\": dispatch_ids,\n",
    "    \"location_id\": location_id_samples,\n",
    "    \"job_type\": job_type_samples,\n",
    "    \"dispatch_time\": dispatch_time_samples\n",
    "})\n",
    "\n",
    "# Save to CSV\n",
    "dispatch_data_simulated.to_csv(\"data/dispatch_data_simulated.csv\", index=False)\n",
    "\n",
    "# Preview the dataset\n",
    "print(dispatch_data_simulated)\n",
    "\n",
    "\n",
    "# Introduce missing and junk values into dispatch_data\n",
    "dispatch_data_simulated.loc[10:20, \"job_type\"] = None  # Introduce missing job types\n",
    "dispatch_data_simulated.loc[30, \"location_id\"] = 9999  # Invalid location_id\n",
    "dispatch_data_simulated.loc[40, \"dispatch_time\"] = \"InvalidTime\"  # Corrupted timestamp\n",
    "\n",
    "# Save the updated dataset\n",
    "dispatch_data_simulated.to_csv(\"data/dispatch_data_with_issues.csv\", index=False)"
   ]
  },
  {
   "cell_type": "code",
   "execution_count": 3,
   "id": "2794db0e",
   "metadata": {},
   "outputs": [
    {
     "data": {
      "text/plain": [
       "job_type\n",
       "lockout          107\n",
       "battery_jump     101\n",
       "fuel_delivery     99\n",
       "tire_change       93\n",
       "towing            89\n",
       "Name: count, dtype: int64"
      ]
     },
     "execution_count": 3,
     "metadata": {},
     "output_type": "execute_result"
    }
   ],
   "source": [
    "dispatch_data_simulated['job_type'].value_counts()"
   ]
  },
  {
   "cell_type": "code",
   "execution_count": 4,
   "id": "8a196a89",
   "metadata": {},
   "outputs": [
    {
     "name": "stdout",
     "output_type": "stream",
     "text": [
      "   location_id       date traffic_level\n",
      "0          104 2024-01-01          high\n",
      "1          108 2024-01-04        severe\n",
      "2          110 2024-01-02      moderate\n",
      "3          107 2024-01-04      moderate\n",
      "4          104 2024-01-01        severe\n"
     ]
    }
   ],
   "source": [
    "# Traffic data simulation\n",
    "\n",
    "# Set random seed for reproducibility\n",
    "np.random.seed(987)\n",
    "\n",
    "# Define parameters for simulation\n",
    "n_rows = 400\n",
    "location_ids = range(101, 116) \n",
    "traffic_levels = [\"low\", \"moderate\", \"high\", \"severe\"]\n",
    "start_date = pd.Timestamp(\"2024-01-01\")\n",
    "end_date = pd.Timestamp(\"2024-01-05\")\n",
    "\n",
    "# Generate simulated data\n",
    "location_id_samples = np.random.choice(location_ids, n_rows)\n",
    "date_samples = pd.to_datetime(\n",
    "    np.random.uniform(start_date.timestamp(), end_date.timestamp(), n_rows), unit=\"s\"\n",
    ").normalize()  # Normalize to ensure dates (no time component)\n",
    "traffic_level_samples = np.random.choice(traffic_levels, n_rows)\n",
    "\n",
    "# Create the DataFrame\n",
    "traffic_data_simulated = pd.DataFrame({\n",
    "    \"location_id\": location_id_samples,\n",
    "    \"date\": date_samples,\n",
    "    \"traffic_level\": traffic_level_samples\n",
    "})\n",
    "\n",
    "# Save to CSV\n",
    "traffic_data_simulated.to_csv(\"data/traffic_data_simulated.csv\", index=False)\n",
    "\n",
    "# Preview the dataset\n",
    "print(traffic_data_simulated.head())\n",
    "\n",
    "# Introduce missing and junk values into traffic_data\n",
    "traffic_data_simulated.loc[50:60, \"traffic_level\"] = None  # Missing traffic levels\n",
    "traffic_data_simulated.loc[100, \"location_id\"] = 123456  # Invalid location_id\n",
    "traffic_data_simulated.loc[150, \"date\"] = \"2024-01-99\"  # Invalid date\n",
    "\n",
    "# Save the updated dataset\n",
    "traffic_data_simulated.to_csv(\"data/traffic_data_with_issues.csv\", index=False)"
   ]
  },
  {
   "cell_type": "code",
   "execution_count": 5,
   "id": "ad22240f",
   "metadata": {},
   "outputs": [
    {
     "name": "stdout",
     "output_type": "stream",
     "text": [
      "   location_id       date  temperature  precipitation\n",
      "0          106 2024-01-01         72.3           1.85\n",
      "1          112 2024-01-02         90.3           0.96\n",
      "2          111 2024-01-03         72.2           4.50\n",
      "3          116 2024-01-03         71.4           3.21\n",
      "4          115 2024-01-01         74.7           0.00\n"
     ]
    }
   ],
   "source": [
    "# Weather data simulation\n",
    "\n",
    "# Set random seed for reproducibility\n",
    "np.random.seed(456)\n",
    "\n",
    "# Define parameters for simulation\n",
    "n_rows = 450\n",
    "location_ids = range(101, 125) \n",
    "start_date = pd.Timestamp(\"2024-01-01\")\n",
    "end_date = pd.Timestamp(\"2024-01-04\")\n",
    "temperature_range = (60, 100)  # Simulated temperature range (in Fahrenheit)\n",
    "precipitation_range = (0, 3)  # Simulated precipitation (in inches)\n",
    "\n",
    "# Generate simulated data\n",
    "location_id_samples = np.random.choice(location_ids, n_rows)\n",
    "date_samples = pd.to_datetime(\n",
    "    np.random.uniform(start_date.timestamp(), end_date.timestamp(), n_rows), unit=\"s\"\n",
    ").normalize()  # Normalize to ensure only the date\n",
    "temperature_samples = np.random.uniform(temperature_range[0], temperature_range[1], n_rows).round(1)\n",
    "dof = 2  # Degrees of freedom for chi square\n",
    "precipitation_samples = np.random.chisquare(dof, n_rows).round(2)\n",
    "\n",
    "# Create the DataFrame\n",
    "weather_data_simulated = pd.DataFrame({\n",
    "    \"location_id\": location_id_samples,\n",
    "    \"date\": date_samples,\n",
    "    \"temperature\": temperature_samples,\n",
    "    \"precipitation\": precipitation_samples\n",
    "})\n",
    "\n",
    "# Save to CSV\n",
    "weather_data_simulated.to_csv(\"data/weather_data_simulated.csv\", index=False)\n",
    "\n",
    "# Preview the dataset\n",
    "print(weather_data_simulated.head())\n",
    "\n",
    "\n",
    "# Introduce missing and junk values into weather_data\n",
    "weather_data_simulated.loc[20:30, \"temperature\"] = None  # Missing temperatures\n",
    "weather_data_simulated.loc[50, \"precipitation\"] = -1  # Invalid precipitation\n",
    "weather_data_simulated.loc[70, \"date\"] = \"InvalidDate\"  # Corrupted date\n",
    "\n",
    "# Save the updated dataset\n",
    "weather_data_simulated.to_csv(\"data/weather_data_with_issues.csv\", index=False)"
   ]
  }
 ],
 "metadata": {
  "kernelspec": {
   "display_name": "Python 3 (ipykernel)",
   "language": "python",
   "name": "python3"
  },
  "language_info": {
   "codemirror_mode": {
    "name": "ipython",
    "version": 3
   },
   "file_extension": ".py",
   "mimetype": "text/x-python",
   "name": "python",
   "nbconvert_exporter": "python",
   "pygments_lexer": "ipython3",
   "version": "3.11.5"
  }
 },
 "nbformat": 4,
 "nbformat_minor": 5
}
