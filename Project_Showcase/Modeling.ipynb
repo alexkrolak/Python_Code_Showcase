{
 "cells": [
  {
   "cell_type": "code",
   "execution_count": 1,
   "id": "4680ad35",
   "metadata": {},
   "outputs": [],
   "source": [
    "# Package imports\n",
    "import pandas as pd\n",
    "from sklearn.model_selection import train_test_split\n",
    "\n",
    "from sklearn.linear_model import LinearRegression\n",
    "from sklearn.metrics import mean_squared_error, mean_absolute_error, r2_score\n",
    "from sklearn.model_selection import train_test_split, cross_val_score\n",
    "\n",
    "import statsmodels.api as sm\n",
    "\n",
    "from sklearn.ensemble import RandomForestRegressor\n",
    "from sklearn.metrics import mean_absolute_error, r2_score\n",
    "from sklearn.model_selection import cross_val_score\n",
    "\n",
    "from xgboost import XGBRegressor"
   ]
  },
  {
   "cell_type": "code",
   "execution_count": 2,
   "id": "e406ee92",
   "metadata": {},
   "outputs": [],
   "source": [
    "# Import data\n",
    "modeling_data = pd.read_csv(\"data/final_modeling_data.csv\")\n",
    "\n",
    "# All X vars and the Y variable\n",
    "only_cols = ['delay_minutes', 'dispatch_hour', 'dispatch_day', 'job_type_encoded', 'traffic_level_encoded', 'temperature_normalized', 'precipitation_normalized']\n",
    "modeling_data = modeling_data[only_cols]\n",
    "\n"
   ]
  },
  {
   "cell_type": "markdown",
   "id": "f68bc40d",
   "metadata": {},
   "source": [
    "# statsmodels package basic linear modeling"
   ]
  },
  {
   "cell_type": "code",
   "execution_count": 3,
   "id": "11c720b9",
   "metadata": {},
   "outputs": [
    {
     "name": "stdout",
     "output_type": "stream",
     "text": [
      "                            OLS Regression Results                            \n",
      "==============================================================================\n",
      "Dep. Variable:          delay_minutes   R-squared:                       0.009\n",
      "Model:                            OLS   Adj. R-squared:                 -0.006\n",
      "Method:                 Least Squares   F-statistic:                    0.6040\n",
      "Date:                Sun, 26 Jan 2025   Prob (F-statistic):              0.727\n",
      "Time:                        18:01:27   Log-Likelihood:                -1669.3\n",
      "No. Observations:                 399   AIC:                             3353.\n",
      "Df Residuals:                     392   BIC:                             3380.\n",
      "Df Model:                           6                                         \n",
      "Covariance Type:            nonrobust                                         \n",
      "============================================================================================\n",
      "                               coef    std err          t      P>|t|      [0.025      0.975]\n",
      "--------------------------------------------------------------------------------------------\n",
      "const                       37.5928      3.450     10.895      0.000      30.809      44.376\n",
      "dispatch_hour               -0.1361      0.116     -1.175      0.241      -0.364       0.092\n",
      "dispatch_day                -0.6974      0.985     -0.708      0.480      -2.635       1.240\n",
      "job_type_encoded            -0.7193      0.564     -1.276      0.203      -1.827       0.389\n",
      "traffic_level_encoded       -0.2835      0.832     -0.341      0.734      -1.920       1.353\n",
      "temperature_normalized       0.1206      0.841      0.143      0.886      -1.532       1.773\n",
      "precipitation_normalized    -0.2717      0.840     -0.323      0.747      -1.923       1.380\n",
      "==============================================================================\n",
      "Omnibus:                      172.459   Durbin-Watson:                   2.019\n",
      "Prob(Omnibus):                  0.000   Jarque-Bera (JB):               22.030\n",
      "Skew:                           0.024   Prob(JB):                     1.64e-05\n",
      "Kurtosis:                       1.850   Cond. No.                         62.0\n",
      "==============================================================================\n",
      "\n",
      "Notes:\n",
      "[1] Standard Errors assume that the covariance matrix of the errors is correctly specified.\n",
      "\n",
      "=== Test data results ===\n",
      "MAE:  13.80\n",
      "MSE:  252.23\n",
      "RMSE: 15.88\n",
      "R^2:  -0.01\n"
     ]
    }
   ],
   "source": [
    "# Pre-train/test split for Statsmodels package data\n",
    "X_stats = modeling_data.drop('delay_minutes', axis=1)\n",
    "y_stats = modeling_data['delay_minutes']\n",
    "\n",
    "# statsmodels constant term adjustment for intercept variable\n",
    "X_stats = sm.add_constant(X_stats) \n",
    "\n",
    "# Train/test Split\n",
    "X_train, X_test, y_train, y_test = train_test_split(\n",
    "    X_stats, y_stats, test_size=0.2, random_state=42\n",
    ")\n",
    "\n",
    "# Fit regular regression using statsmodels\n",
    "lin_mod_sm = sm.OLS(y_train, X_train).fit()\n",
    "print(lin_mod_sm.summary())\n",
    "\n",
    "# Create y-hat\n",
    "# We must add_constant to X_test if not already done\n",
    "y_pred_test_stats = lin_mod_sm.predict(X_test)\n",
    "\n",
    "# MSE, MAE, R^2 values for this model\n",
    "mse_sm = mean_squared_error(y_test, y_pred_test_stats)\n",
    "mae_sm = mean_absolute_error(y_test, y_pred_test_stats)\n",
    "r2_sm = r2_score(y_test, y_pred_test_stats)\n",
    "\n",
    "print(\"\\n=== Test data results ===\")\n",
    "print(f\"MAE:  {mae_sm:.2f}\")\n",
    "print(f\"MSE:  {mse_sm:.2f}\")\n",
    "print(f\"RMSE: {mse_sm**0.5:.2f}\")\n",
    "print(f\"R^2:  {r2_sm:.2f}\")\n",
    "# None of thse are significant here which is no surprise since the data is entirely random noise"
   ]
  },
  {
   "cell_type": "markdown",
   "id": "0bf30999",
   "metadata": {},
   "source": [
    "# Linear regression using sklearn"
   ]
  },
  {
   "cell_type": "code",
   "execution_count": 4,
   "id": "9bf1ac4b",
   "metadata": {},
   "outputs": [
    {
     "name": "stdout",
     "output_type": "stream",
     "text": [
      "=== Basic LM using SKLearn ===\n",
      "Test MAE: 13.80\n",
      "Test MSE: 252.23\n",
      "Test RMSE: 15.88\n",
      "Test R^2:  -0.01\n",
      "CV RMSE (5-fold): 16.12\n"
     ]
    }
   ],
   "source": [
    "# X and Y datasets\n",
    "X = modeling_data.drop('delay_minutes', axis=1)\n",
    "y = modeling_data['delay_minutes']\n",
    "\n",
    "# Train/test split\n",
    "X_train, X_test, y_train, y_test = train_test_split(\n",
    "    X, y, test_size=0.2, random_state=42\n",
    ")\n",
    "\n",
    "# Fit model\n",
    "lin_model = LinearRegression()\n",
    "lin_model.fit(X_train, y_train)\n",
    "\n",
    "# predict on test set to find out of sample fit\n",
    "y_hat_test = lin_model.predict(X_test)\n",
    "\n",
    "# MSE MAE, R^2 on test data\n",
    "mse_lin = mean_squared_error(y_test, y_hat_test)\n",
    "mae_lin = mean_absolute_error(y_test, y_hat_test)\n",
    "r2_lin = r2_score(y_test, y_hat_test)\n",
    "\n",
    "print(\"=== Basic LM using SKLearn ===\")\n",
    "print(f\"Test MAE: {mae_lin:.2f}\")\n",
    "print(f\"Test MSE: {mse_lin:.2f}\")\n",
    "print(f\"Test RMSE: {mse_lin**0.5:.2f}\")\n",
    "print(f\"Test R^2:  {r2_lin:.2f}\")\n",
    "\n",
    "# Cross-Validation RMSE\n",
    "scores_lin = cross_val_score(lin_model, X, y, cv=5, scoring='neg_mean_squared_error')\n",
    "rmse_cv_lin = (-scores_lin.mean())**0.5\n",
    "print(f\"CV RMSE (5-fold): {rmse_cv_lin:.2f}\")\n"
   ]
  },
  {
   "cell_type": "markdown",
   "id": "8a4eaef9",
   "metadata": {},
   "source": [
    "# Random Forest modeling using sklearn"
   ]
  },
  {
   "cell_type": "code",
   "execution_count": 5,
   "id": "26abc3be",
   "metadata": {},
   "outputs": [
    {
     "name": "stdout",
     "output_type": "stream",
     "text": [
      "MAE: 15.536117619047621, R^2: -0.3381870061630441\n",
      "Average RMSE: 18.286832577759885\n",
      "[0.3532407  0.05400296 0.16209874 0.06351174 0.18276129 0.18438456]\n"
     ]
    }
   ],
   "source": [
    "# RF modeling\n",
    "# X and Y data\n",
    "X = modeling_data.drop('delay_minutes', axis=1)\n",
    "y = modeling_data['delay_minutes']\n",
    "\n",
    "# X train/test and y train/test\n",
    "X_train, X_test, y_train, y_test = train_test_split(\n",
    "    X, y, test_size=0.2, random_state=42\n",
    ")\n",
    "\n",
    "# Fit a RF\n",
    "model = RandomForestRegressor(n_estimators=100, random_state=642)\n",
    "model.fit(X_train, y_train)\n",
    "\n",
    "# Y-hat, MAE, R^2 for our RF model\n",
    "y_pred = model.predict(X_test)\n",
    "mae = mean_absolute_error(y_test, y_pred)\n",
    "r2 = r2_score(y_test, y_pred)\n",
    "print(f\"MAE: {mae}, R^2: {r2}\")\n",
    "\n",
    "# CV results here\n",
    "scores = cross_val_score(model, X, y, cv=5, scoring='neg_mean_squared_error')\n",
    "print(f\"Average RMSE: {(-scores.mean())**0.5}\")\n",
    "\n",
    "# Feature importance\n",
    "importances = model.feature_importances_\n",
    "\n",
    "print(importances)"
   ]
  },
  {
   "cell_type": "markdown",
   "id": "01f0c2e3",
   "metadata": {},
   "source": [
    "# XGB example code in SKLearn"
   ]
  },
  {
   "cell_type": "code",
   "execution_count": 6,
   "id": "81803b7f",
   "metadata": {},
   "outputs": [
    {
     "ename": "NameError",
     "evalue": "name 'y_pred_xgb' is not defined",
     "output_type": "error",
     "traceback": [
      "\u001b[1;31m---------------------------------------------------------------------------\u001b[0m",
      "\u001b[1;31mNameError\u001b[0m                                 Traceback (most recent call last)",
      "Cell \u001b[1;32mIn[6], line 10\u001b[0m\n\u001b[0;32m      8\u001b[0m \u001b[38;5;66;03m# MAE and R^2 for XGB model\u001b[39;00m\n\u001b[0;32m      9\u001b[0m mae_xgb \u001b[38;5;241m=\u001b[39m mean_absolute_error(y_test, y_hat_xgb)\n\u001b[1;32m---> 10\u001b[0m r2_xgb \u001b[38;5;241m=\u001b[39m r2_score(y_test, \u001b[43my_pred_xgb\u001b[49m)\n\u001b[0;32m     11\u001b[0m \u001b[38;5;28mprint\u001b[39m(\u001b[38;5;124mf\u001b[39m\u001b[38;5;124m\"\u001b[39m\u001b[38;5;124mXGBoost MAE: \u001b[39m\u001b[38;5;132;01m{\u001b[39;00mmae_xgb\u001b[38;5;132;01m:\u001b[39;00m\u001b[38;5;124m.2f\u001b[39m\u001b[38;5;132;01m}\u001b[39;00m\u001b[38;5;124m, R^2: \u001b[39m\u001b[38;5;132;01m{\u001b[39;00mr2_xgb\u001b[38;5;132;01m:\u001b[39;00m\u001b[38;5;124m.2f\u001b[39m\u001b[38;5;132;01m}\u001b[39;00m\u001b[38;5;124m\"\u001b[39m)\n",
      "\u001b[1;31mNameError\u001b[0m: name 'y_pred_xgb' is not defined"
     ]
    }
   ],
   "source": [
    "# Create XGB\n",
    "xgb_model = XGBRegressor(random_state=42)\n",
    "# Fit model\n",
    "xgb_model.fit(X_train.drop('const', axis=1, errors='ignore'), y_train)  # dropping 'const' if present\n",
    "# y hat from xgboost\n",
    "y_hat_xgb = xgb_model.predict(X_test.drop('const', axis=1, errors='ignore'))\n",
    "\n",
    "# MAE and R^2 for XGB model\n",
    "mae_xgb = mean_absolute_error(y_test, y_hat_xgb)\n",
    "r2_xgb = r2_score(y_test, y_pred_xgb)\n",
    "print(f\"XGBoost MAE: {mae_xgb:.2f}, R^2: {r2_xgb:.2f}\")"
   ]
  }
 ],
 "metadata": {
  "kernelspec": {
   "display_name": "Python 3 (ipykernel)",
   "language": "python",
   "name": "python3"
  },
  "language_info": {
   "codemirror_mode": {
    "name": "ipython",
    "version": 3
   },
   "file_extension": ".py",
   "mimetype": "text/x-python",
   "name": "python",
   "nbconvert_exporter": "python",
   "pygments_lexer": "ipython3",
   "version": "3.11.5"
  }
 },
 "nbformat": 4,
 "nbformat_minor": 5
}
