{
 "cells": [
  {
   "cell_type": "code",
   "execution_count": 1,
   "id": "7afc8f9c",
   "metadata": {},
   "outputs": [],
   "source": [
    "# Package imports\n",
    "import pandas as pd"
   ]
  },
  {
   "cell_type": "code",
   "execution_count": 8,
   "id": "e2729c4b",
   "metadata": {},
   "outputs": [],
   "source": [
    "# Load cleaned datasets\n",
    "dispatch_data = pd.read_csv(\"data/cleaned_dispatch_data.csv\")\n",
    "traffic_data = pd.read_csv(\"data/cleaned_traffic_data.csv\")\n",
    "weather_data = pd.read_csv(\"data/cleaned_weather_data.csv\")\n",
    "left_merged_data = pd.read_csv('data/left_merged_data.csv')\n"
   ]
  },
  {
   "cell_type": "markdown",
   "id": "669078e1",
   "metadata": {},
   "source": [
    "# Create features"
   ]
  },
  {
   "cell_type": "code",
   "execution_count": 9,
   "id": "3ec1aa24",
   "metadata": {},
   "outputs": [],
   "source": [
    "# Add hours features\n",
    "left_merged_data['dispatch_hour'] = pd.to_datetime(left_merged_data['dispatch_time']).dt.hour\n",
    "left_merged_data['dispatch_day'] = pd.to_datetime(left_merged_data['dispatch_time']).dt.day\n",
    "\n",
    "# Category encoding\n",
    "left_merged_data['job_type_encoded'] = left_merged_data['job_type'].astype('category').cat.codes\n",
    "left_merged_data['traffic_level_encoded'] = left_merged_data['traffic_level'].map({'low': 1, 'moderate': 2, 'high': 3, 'severe': 4})\n",
    "\n",
    "# Normalize/Standardize columns\n",
    "left_merged_data['temperature_normalized'] = (left_merged_data['temperature'] - left_merged_data['temperature'].mean()) / left_merged_data['temperature'].std()\n",
    "left_merged_data['precipitation_normalized'] = (left_merged_data['precipitation'] - left_merged_data['precipitation'].mean()) / left_merged_data['precipitation'].std()"
   ]
  },
  {
   "cell_type": "code",
   "execution_count": 10,
   "id": "326bf0b8",
   "metadata": {},
   "outputs": [],
   "source": [
    "### Fill NA's with values ###\n",
    "\n",
    "# Fill missing traffic levels with mode\n",
    "left_merged_data['traffic_level'].fillna('moderate', inplace=True)\n",
    "\n",
    "# Fill missing weather data with mean values\n",
    "left_merged_data['temperature'].fillna(left_merged_data['temperature'].mean(), inplace=True)\n",
    "left_merged_data['precipitation'].fillna(left_merged_data['precipitation'].mean(), inplace=True)"
   ]
  },
  {
   "cell_type": "code",
   "execution_count": 11,
   "id": "32460201",
   "metadata": {},
   "outputs": [
    {
     "data": {
      "text/html": [
       "<div>\n",
       "<style scoped>\n",
       "    .dataframe tbody tr th:only-of-type {\n",
       "        vertical-align: middle;\n",
       "    }\n",
       "\n",
       "    .dataframe tbody tr th {\n",
       "        vertical-align: top;\n",
       "    }\n",
       "\n",
       "    .dataframe thead th {\n",
       "        text-align: right;\n",
       "    }\n",
       "</style>\n",
       "<table border=\"1\" class=\"dataframe\">\n",
       "  <thead>\n",
       "    <tr style=\"text-align: right;\">\n",
       "      <th></th>\n",
       "      <th>full_data</th>\n",
       "      <th>counts</th>\n",
       "    </tr>\n",
       "  </thead>\n",
       "  <tbody>\n",
       "    <tr>\n",
       "      <th>0</th>\n",
       "      <td>True</td>\n",
       "      <td>499</td>\n",
       "    </tr>\n",
       "    <tr>\n",
       "      <th>1</th>\n",
       "      <td>False</td>\n",
       "      <td>1</td>\n",
       "    </tr>\n",
       "  </tbody>\n",
       "</table>\n",
       "</div>"
      ],
      "text/plain": [
       "   full_data  counts\n",
       "0       True     499\n",
       "1      False       1"
      ]
     },
     "execution_count": 11,
     "metadata": {},
     "output_type": "execute_result"
    }
   ],
   "source": [
    "# Find what % of rows are from all data sources and label them\n",
    "# Data in all sources?\n",
    "left_merged_data['full_data'] = (\n",
    "    (left_merged_data['source_dispatch'] == 1) &\n",
    "    (left_merged_data['source_traffic'] == 1) &\n",
    "    (left_merged_data['source_weather'] == 1)\n",
    ")\n",
    "\n",
    "left_merged_data['full_data'].value_counts().reset_index(name ='counts')"
   ]
  },
  {
   "cell_type": "code",
   "execution_count": 12,
   "id": "00cebc19",
   "metadata": {},
   "outputs": [
    {
     "name": "stdout",
     "output_type": "stream",
     "text": [
      "source_dispatch    1\n",
      "source_traffic     0\n",
      "source_weather     0\n",
      "dtype: int64\n",
      "    location_id        date\n",
      "40          109  2024-01-10\n",
      "Missing location_ids: [109]\n",
      "Weather data for missing location_ids:\n",
      "     location_id        date  temperature  precipitation  source_weather\n",
      "24          109  2024-01-01         60.9           0.90               1\n",
      "25          109  2024-01-02         65.3           0.08               1\n",
      "26          109  2024-01-03         65.6           0.44               1\n"
     ]
    }
   ],
   "source": [
    "# Filter rows with partial data\n",
    "partial_data = left_merged_data[left_merged_data['full_data'] == False]\n",
    "\n",
    "# Find whether any particular data source is missing more often than others, then why?\n",
    "missing_source_counts = partial_data[['source_dispatch', 'source_traffic', 'source_weather']].sum()\n",
    "print(missing_source_counts)\n",
    "\n",
    "# Are there specific days missing or specific locations missing too often?\n",
    "missing_weather = partial_data[partial_data['source_weather'] == 0]\n",
    "print(missing_weather[['location_id', 'date']].head())\n",
    "\n",
    "\n",
    "# Find which location_id values are missing in weather_data\n",
    "missing_location_ids = missing_weather['location_id'].unique()\n",
    "print(\"Missing location_ids:\", missing_location_ids)\n",
    "\n",
    "# Check if these location_ids exist in weather_data\n",
    "missing_in_weather_data = weather_data[weather_data['location_id'].isin(missing_location_ids)]\n",
    "print(\"Weather data for missing location_ids:\\n\", missing_in_weather_data)"
   ]
  },
  {
   "cell_type": "code",
   "execution_count": 13,
   "id": "bdc371ad",
   "metadata": {},
   "outputs": [],
   "source": [
    "# Example: Save after dropping partial rows or imputing\n",
    "final_data = left_merged_data[left_merged_data['full_data'] == True].copy()\n",
    "# OR some function that does advanced imputation\n",
    "\n",
    "final_data.to_csv(\"data/final_modeling_data.csv\", index=False)"
   ]
  },
  {
   "cell_type": "code",
   "execution_count": null,
   "id": "6e908911",
   "metadata": {},
   "outputs": [],
   "source": []
  }
 ],
 "metadata": {
  "kernelspec": {
   "display_name": "Python 3 (ipykernel)",
   "language": "python",
   "name": "python3"
  },
  "language_info": {
   "codemirror_mode": {
    "name": "ipython",
    "version": 3
   },
   "file_extension": ".py",
   "mimetype": "text/x-python",
   "name": "python",
   "nbconvert_exporter": "python",
   "pygments_lexer": "ipython3",
   "version": "3.11.5"
  }
 },
 "nbformat": 4,
 "nbformat_minor": 5
}
