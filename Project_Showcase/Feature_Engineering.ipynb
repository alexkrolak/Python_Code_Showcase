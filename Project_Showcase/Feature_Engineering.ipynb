{
 "cells": [
  {
   "cell_type": "code",
   "execution_count": null,
   "id": "7afc8f9c",
   "metadata": {},
   "outputs": [],
   "source": [
    "# Package imports\n",
    "import pandas as pd"
   ]
  },
  {
   "cell_type": "code",
   "execution_count": 1,
   "id": "e2729c4b",
   "metadata": {},
   "outputs": [
    {
     "name": "stdout",
     "output_type": "stream",
     "text": [
      "   dispatch_id  location_id       job_type                  dispatch_time  \\\n",
      "0            1          139    tire_change  2025-01-10 03:11:30.488504576   \n",
      "1            2          129        lockout  2025-01-11 11:34:24.907076608   \n",
      "2            3          115         towing  2025-01-11 03:34:28.379484416   \n",
      "3            4          143    tire_change  2025-01-11 16:24:27.170795008   \n",
      "4            5          108  fuel_delivery  2025-01-10 06:42:32.526908672   \n",
      "\n",
      "                 completion_time  delay_minutes  \n",
      "0  2025-01-10 03:33:30.488504576           22.0  \n",
      "1  2025-01-11 11:40:24.907076608            6.0  \n",
      "2  2025-01-11 04:18:28.379484416           44.0  \n",
      "3  2025-01-11 16:57:27.170795008           33.0  \n",
      "4  2025-01-10 06:58:32.526908672           16.0  \n",
      "   location_id        date traffic_level\n",
      "0          139  2025-01-10          high\n",
      "1          129  2025-01-10      moderate\n",
      "2          115  2025-01-10        severe\n",
      "3          143  2025-01-10           low\n",
      "4          108  2025-01-10      moderate\n",
      "   location_id        date  temperature  precipitation\n",
      "0          128  2025-01-10         91.5           0.71\n",
      "1          138  2025-01-10         73.3           0.71\n",
      "2          144  2025-01-10         64.5           0.41\n",
      "3          126  2025-01-10         64.1           0.21\n",
      "4          143  2025-01-10         75.8           0.16\n"
     ]
    }
   ],
   "source": [
    "# Load cleaned datasets\n",
    "dispatch_data = pd.read_csv(\"data/cleaned_dispatch_data.csv\")\n",
    "traffic_data = pd.read_csv(\"data/cleaned_traffic_data.csv\")\n",
    "weather_data = pd.read_csv(\"data/cleaned_weather_data.csv\")\n",
    "\n",
    "# Preview datasets\n",
    "print(dispatch_data.head())\n",
    "print(traffic_data.head())\n",
    "print(weather_data.head())\n"
   ]
  },
  {
   "cell_type": "markdown",
   "id": "669078e1",
   "metadata": {},
   "source": [
    "# Create features"
   ]
  },
  {
   "cell_type": "code",
   "execution_count": 3,
   "id": "3ec1aa24",
   "metadata": {},
   "outputs": [],
   "source": [
    "# Add hours features\n",
    "dispatch_data['dispatch_hour'] = pd.to_datetime(dispatch_data['dispatch_time']).dt.hour\n",
    "dispatch_data['dispatch_day'] = pd.to_datetime(dispatch_data['dispatch_time']).dt.day\n",
    "\n",
    "# Category encoding\n",
    "dispatch_data['job_type_encoded'] = dispatch_data['job_type'].astype('category').cat.codes\n",
    "traffic_data['traffic_level_encoded'] = traffic_data['traffic_level'].map({'low': 1, 'moderate': 2, 'high': 3, 'severe': 4})\n",
    "\n",
    "# Normalize/Standardize columns\n",
    "weather_data['temperature_normalized'] = (weather_data['temperature'] - weather_data['temperature'].mean()) / weather_data['temperature'].std()\n",
    "weather_data['precipitation_normalized'] = (weather_data['precipitation'] - weather_data['precipitation'].mean()) / weather_data['precipitation'].std()\n"
   ]
  },
  {
   "cell_type": "markdown",
   "id": "f59a24ab",
   "metadata": {},
   "source": [
    "# Merge Data"
   ]
  },
  {
   "cell_type": "code",
   "execution_count": 4,
   "id": "0eddaa90",
   "metadata": {},
   "outputs": [
    {
     "name": "stdout",
     "output_type": "stream",
     "text": [
      "Columns in dispatch_data:\n",
      "Index(['dispatch_id', 'location_id', 'job_type', 'dispatch_time',\n",
      "       'completion_time', 'delay_minutes', 'date', 'dispatch_hour',\n",
      "       'dispatch_day', 'job_type_encoded'],\n",
      "      dtype='object')\n",
      "\n",
      "Columns in traffic_data:\n",
      "Index(['location_id', 'date', 'traffic_level', 'traffic_level_encoded'], dtype='object')\n",
      "\n",
      "Columns in weather_data:\n",
      "Index(['location_id', 'date', 'temperature', 'precipitation',\n",
      "       'temperature_normalized', 'precipitation_normalized'],\n",
      "      dtype='object')\n"
     ]
    }
   ],
   "source": [
    "print(\"Columns in dispatch_data:\")\n",
    "print(dispatch_data.columns)\n",
    "\n",
    "print(\"\\nColumns in traffic_data:\")\n",
    "print(traffic_data.columns)\n",
    "\n",
    "print(\"\\nColumns in weather_data:\")\n",
    "print(weather_data.columns)"
   ]
  },
  {
   "cell_type": "code",
   "execution_count": 5,
   "id": "6f291ecf",
   "metadata": {},
   "outputs": [
    {
     "name": "stdout",
     "output_type": "stream",
     "text": [
      "   dispatch_id  location_id       job_type                  dispatch_time  \\\n",
      "0            1          139    tire_change  2025-01-10 03:11:30.488504576   \n",
      "1            2          129        lockout  2025-01-11 11:34:24.907076608   \n",
      "2            3          115         towing  2025-01-11 03:34:28.379484416   \n",
      "3            4          143    tire_change  2025-01-11 16:24:27.170795008   \n",
      "4            5          108  fuel_delivery  2025-01-10 06:42:32.526908672   \n",
      "\n",
      "                 completion_time  delay_minutes        date  dispatch_hour  \\\n",
      "0  2025-01-10 03:33:30.488504576           22.0  2025-01-10              3   \n",
      "1  2025-01-11 11:40:24.907076608            6.0  2025-01-11             11   \n",
      "2  2025-01-11 04:18:28.379484416           44.0  2025-01-11              3   \n",
      "3  2025-01-11 16:57:27.170795008           33.0  2025-01-11             16   \n",
      "4  2025-01-10 06:58:32.526908672           16.0  2025-01-10              6   \n",
      "\n",
      "   dispatch_day  job_type_encoded traffic_level  traffic_level_encoded  \\\n",
      "0            10                 3           NaN                    NaN   \n",
      "1            11                 2           NaN                    NaN   \n",
      "2            11                 4           NaN                    NaN   \n",
      "3            11                 3           NaN                    NaN   \n",
      "4            10                 1           NaN                    NaN   \n",
      "\n",
      "   temperature  precipitation  temperature_normalized  \\\n",
      "0          NaN            NaN                     NaN   \n",
      "1          NaN            NaN                     NaN   \n",
      "2          NaN            NaN                     NaN   \n",
      "3          NaN            NaN                     NaN   \n",
      "4          NaN            NaN                     NaN   \n",
      "\n",
      "   precipitation_normalized  \n",
      "0                       NaN  \n",
      "1                       NaN  \n",
      "2                       NaN  \n",
      "3                       NaN  \n",
      "4                       NaN  \n"
     ]
    }
   ],
   "source": []
  },
  {
   "cell_type": "code",
   "execution_count": null,
   "id": "8eea69ac",
   "metadata": {},
   "outputs": [],
   "source": []
  }
 ],
 "metadata": {
  "kernelspec": {
   "display_name": "Python 3 (ipykernel)",
   "language": "python",
   "name": "python3"
  },
  "language_info": {
   "codemirror_mode": {
    "name": "ipython",
    "version": 3
   },
   "file_extension": ".py",
   "mimetype": "text/x-python",
   "name": "python",
   "nbconvert_exporter": "python",
   "pygments_lexer": "ipython3",
   "version": "3.11.5"
  }
 },
 "nbformat": 4,
 "nbformat_minor": 5
}
