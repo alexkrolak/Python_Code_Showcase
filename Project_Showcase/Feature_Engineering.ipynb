{
 "cells": [
  {
   "cell_type": "code",
   "execution_count": 1,
   "id": "7afc8f9c",
   "metadata": {},
   "outputs": [],
   "source": [
    "# Package imports\n",
    "import pandas as pd"
   ]
  },
  {
   "cell_type": "code",
   "execution_count": 2,
   "id": "e2729c4b",
   "metadata": {},
   "outputs": [
    {
     "name": "stdout",
     "output_type": "stream",
     "text": [
      "   dispatch_id  location_id       job_type                  dispatch_time  \\\n",
      "0            1          139    tire_change  2024-01-01 04:47:15.766005248   \n",
      "1            2          129        lockout  2024-01-03 05:21:37.731175424   \n",
      "2            3          115         towing  2024-01-02 17:21:42.856463104   \n",
      "3            4          143    tire_change  2024-01-03 12:36:41.177106944   \n",
      "4            5          108  fuel_delivery  2024-01-01 10:03:48.860249088   \n",
      "\n",
      "                 completion_time  delay_minutes        date  source_dispatch  \n",
      "0  2024-01-01 05:43:15.766005248           56.0  2024-01-01                1  \n",
      "1  2024-01-03 05:37:37.731175424           16.0  2024-01-03                1  \n",
      "2  2024-01-02 18:18:42.856463104           57.0  2024-01-02                1  \n",
      "3  2024-01-03 13:19:41.177106944           43.0  2024-01-03                1  \n",
      "4  2024-01-01 10:37:48.860249088           34.0  2024-01-01                1  \n",
      "   location_id        date traffic_level  source_traffic\n",
      "0          101  2024-01-01        severe               1\n",
      "1          101  2024-01-02      moderate               1\n",
      "2          102  2024-01-01           low               1\n",
      "3          102  2024-01-02        severe               1\n",
      "4          103  2024-01-01        severe               1\n",
      "   location_id        date  temperature  precipitation  source_weather\n",
      "0          101  2024-01-02         62.2           1.88               1\n",
      "1          103  2024-01-01         75.9           2.08               1\n",
      "2          103  2024-01-02         63.0           0.82               1\n",
      "3          104  2024-01-02         95.3           7.81               1\n",
      "4          105  2024-01-01         66.4           0.25               1\n"
     ]
    }
   ],
   "source": [
    "# Load cleaned datasets\n",
    "dispatch_data = pd.read_csv(\"data/cleaned_dispatch_data.csv\")\n",
    "traffic_data = pd.read_csv(\"data/cleaned_traffic_data.csv\")\n",
    "weather_data = pd.read_csv(\"data/cleaned_weather_data.csv\")\n",
    "\n",
    "# Preview datasets\n",
    "print(dispatch_data.head())\n",
    "print(traffic_data.head())\n",
    "print(weather_data.head())\n"
   ]
  },
  {
   "cell_type": "markdown",
   "id": "669078e1",
   "metadata": {},
   "source": [
    "# Create features"
   ]
  },
  {
   "cell_type": "code",
   "execution_count": 3,
   "id": "3ec1aa24",
   "metadata": {},
   "outputs": [],
   "source": [
    "# Add hours features\n",
    "dispatch_data['dispatch_hour'] = pd.to_datetime(dispatch_data['dispatch_time']).dt.hour\n",
    "dispatch_data['dispatch_day'] = pd.to_datetime(dispatch_data['dispatch_time']).dt.day\n",
    "\n",
    "# Category encoding\n",
    "dispatch_data['job_type_encoded'] = dispatch_data['job_type'].astype('category').cat.codes\n",
    "traffic_data['traffic_level_encoded'] = traffic_data['traffic_level'].map({'low': 1, 'moderate': 2, 'high': 3, 'severe': 4})\n",
    "\n",
    "# Normalize/Standardize columns\n",
    "weather_data['temperature_normalized'] = (weather_data['temperature'] - weather_data['temperature'].mean()) / weather_data['temperature'].std()\n",
    "weather_data['precipitation_normalized'] = (weather_data['precipitation'] - weather_data['precipitation'].mean()) / weather_data['precipitation'].std()\n"
   ]
  }
 ],
 "metadata": {
  "kernelspec": {
   "display_name": "Python 3 (ipykernel)",
   "language": "python",
   "name": "python3"
  },
  "language_info": {
   "codemirror_mode": {
    "name": "ipython",
    "version": 3
   },
   "file_extension": ".py",
   "mimetype": "text/x-python",
   "name": "python",
   "nbconvert_exporter": "python",
   "pygments_lexer": "ipython3",
   "version": "3.11.5"
  }
 },
 "nbformat": 4,
 "nbformat_minor": 5
}
